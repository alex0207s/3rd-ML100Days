{
 "cells": [
  {
   "cell_type": "markdown",
   "metadata": {},
   "source": [
    "## Work\n",
    "1. 請比較使用不同層數以及不同 Dropout rate 對訓練的效果\n",
    "2. 將 optimizer 改成使用 Adam 並加上適當的 dropout rate 檢視結果"
   ]
  },
  {
   "cell_type": "code",
   "execution_count": 1,
   "metadata": {},
   "outputs": [
    {
     "name": "stderr",
     "output_type": "stream",
     "text": [
      "Using TensorFlow backend.\n"
     ]
    }
   ],
   "source": [
    "import os\n",
    "import keras\n",
    "import itertools\n",
    "# Disable GPU\n",
    "os.environ[\"CUDA_VISIBLE_DEVICES\"] = \"0\""
   ]
  },
  {
   "cell_type": "code",
   "execution_count": 2,
   "metadata": {},
   "outputs": [],
   "source": [
    "train, test = keras.datasets.cifar10.load_data()"
   ]
  },
  {
   "cell_type": "code",
   "execution_count": 3,
   "metadata": {},
   "outputs": [],
   "source": [
    "## 資料前處理\n",
    "def preproc_x(x, flatten=True):\n",
    "    x = x / 255.\n",
    "    if flatten:\n",
    "        x = x.reshape((len(x), -1))\n",
    "    return x\n",
    "\n",
    "def preproc_y(y, num_classes=10):\n",
    "    if y.shape[-1] == 1:\n",
    "        y = keras.utils.to_categorical(y, num_classes)\n",
    "    return y    "
   ]
  },
  {
   "cell_type": "code",
   "execution_count": 4,
   "metadata": {},
   "outputs": [],
   "source": [
    "x_train, y_train = train\n",
    "x_test, y_test = test\n",
    "\n",
    "# Preproc the inputs\n",
    "x_train = preproc_x(x_train)\n",
    "x_test = preproc_x(x_test)\n",
    "\n",
    "# Preprc the outputs\n",
    "y_train = preproc_y(y_train)\n",
    "y_test = preproc_y(y_test)"
   ]
  },
  {
   "cell_type": "code",
   "execution_count": 5,
   "metadata": {},
   "outputs": [],
   "source": [
    "\n",
    "def build_mlp(input_shape, num_nenurons=[512, 256, 128], drp_ratio=0.2):\n",
    "    input_layer = keras.layers.Input(input_shape)\n",
    "    \n",
    "    for i, n_units in enumerate(num_nenurons):\n",
    "        if i == 0:\n",
    "            x = keras.layers.Dense(units=n_units, activation='relu', name='hidden_layer'+str(i+1))(input_layer)\n",
    "            x = keras.layers.Dropout(drp_ratio)(x)\n",
    "        else:\n",
    "            x = keras.layers.Dense(units=n_units, activation='relu', name='hidden_layer'+str(i+1))(x)\n",
    "            x = keras.layers.Dropout(drp_ratio)(x)\n",
    "            \n",
    "    out = keras.layers.Dense(units=10, activation='softmax', name='output')(x)\n",
    "    \n",
    "    model = keras.models.Model(inputs=[input_layer], outputs=[out])\n",
    "    return model"
   ]
  },
  {
   "cell_type": "code",
   "execution_count": 6,
   "metadata": {},
   "outputs": [],
   "source": [
    "## 超參數設定\n",
    "LEARNING_RATE = 2e-3\n",
    "EPOCHS = 50\n",
    "BATCH_SIZE = 256\n",
    "Dropout_EXP = 0.3"
   ]
  },
  {
   "cell_type": "code",
   "execution_count": 7,
   "metadata": {
    "scrolled": true
   },
   "outputs": [
    {
     "name": "stdout",
     "output_type": "stream",
     "text": [
      "_________________________________________________________________\n",
      "Layer (type)                 Output Shape              Param #   \n",
      "=================================================================\n",
      "input_1 (InputLayer)         (None, 3072)              0         \n",
      "_________________________________________________________________\n",
      "hidden_layer1 (Dense)        (None, 512)               1573376   \n",
      "_________________________________________________________________\n",
      "dropout_1 (Dropout)          (None, 512)               0         \n",
      "_________________________________________________________________\n",
      "hidden_layer2 (Dense)        (None, 256)               131328    \n",
      "_________________________________________________________________\n",
      "dropout_2 (Dropout)          (None, 256)               0         \n",
      "_________________________________________________________________\n",
      "hidden_layer3 (Dense)        (None, 128)               32896     \n",
      "_________________________________________________________________\n",
      "dropout_3 (Dropout)          (None, 128)               0         \n",
      "_________________________________________________________________\n",
      "output (Dense)               (None, 10)                1290      \n",
      "=================================================================\n",
      "Total params: 1,738,890\n",
      "Trainable params: 1,738,890\n",
      "Non-trainable params: 0\n",
      "_________________________________________________________________\n",
      "Train on 50000 samples, validate on 10000 samples\n",
      "Epoch 1/50\n",
      "50000/50000 [==============================] - 7s 146us/step - loss: 2.1123 - acc: 0.2071 - val_loss: 1.9622 - val_acc: 0.2739\n",
      "Epoch 2/50\n",
      "50000/50000 [==============================] - 4s 77us/step - loss: 1.9582 - acc: 0.2678 - val_loss: 1.8935 - val_acc: 0.2975\n",
      "Epoch 3/50\n",
      "50000/50000 [==============================] - 4s 74us/step - loss: 1.9279 - acc: 0.2775 - val_loss: 1.8393 - val_acc: 0.3334\n",
      "Epoch 4/50\n",
      "50000/50000 [==============================] - 4s 83us/step - loss: 1.8968 - acc: 0.2927 - val_loss: 1.8274 - val_acc: 0.3438\n",
      "Epoch 5/50\n",
      "50000/50000 [==============================] - 4s 84us/step - loss: 1.8750 - acc: 0.3028 - val_loss: 1.8046 - val_acc: 0.3508\n",
      "Epoch 6/50\n",
      "50000/50000 [==============================] - 4s 77us/step - loss: 1.8625 - acc: 0.3071 - val_loss: 1.8142 - val_acc: 0.3488\n",
      "Epoch 7/50\n",
      "50000/50000 [==============================] - 4s 77us/step - loss: 1.8658 - acc: 0.3088 - val_loss: 1.7907 - val_acc: 0.3499\n",
      "Epoch 8/50\n",
      "50000/50000 [==============================] - 4s 78us/step - loss: 1.8516 - acc: 0.3147 - val_loss: 1.7761 - val_acc: 0.3546\n",
      "Epoch 9/50\n",
      "50000/50000 [==============================] - 4s 75us/step - loss: 1.8362 - acc: 0.3231 - val_loss: 1.7523 - val_acc: 0.3723\n",
      "Epoch 10/50\n",
      "50000/50000 [==============================] - 4s 77us/step - loss: 1.8285 - acc: 0.3241 - val_loss: 1.7817 - val_acc: 0.3749\n",
      "Epoch 11/50\n",
      "50000/50000 [==============================] - 4s 75us/step - loss: 1.8169 - acc: 0.3280 - val_loss: 1.7475 - val_acc: 0.3745\n",
      "Epoch 12/50\n",
      "50000/50000 [==============================] - 4s 76us/step - loss: 1.8184 - acc: 0.3290 - val_loss: 1.7401 - val_acc: 0.3739\n",
      "Epoch 13/50\n",
      "50000/50000 [==============================] - 4s 77us/step - loss: 1.8168 - acc: 0.3293 - val_loss: 1.7432 - val_acc: 0.3733\n",
      "Epoch 14/50\n",
      "50000/50000 [==============================] - 4s 77us/step - loss: 1.8108 - acc: 0.3344 - val_loss: 1.7489 - val_acc: 0.3881\n",
      "Epoch 15/50\n",
      "50000/50000 [==============================] - 4s 76us/step - loss: 1.8076 - acc: 0.3374 - val_loss: 1.7397 - val_acc: 0.3795\n",
      "Epoch 16/50\n",
      "50000/50000 [==============================] - 4s 76us/step - loss: 1.8080 - acc: 0.3379 - val_loss: 1.7944 - val_acc: 0.3721\n",
      "Epoch 17/50\n",
      "50000/50000 [==============================] - 4s 75us/step - loss: 1.7967 - acc: 0.3427 - val_loss: 1.7294 - val_acc: 0.3909\n",
      "Epoch 18/50\n",
      "50000/50000 [==============================] - 4s 77us/step - loss: 1.7954 - acc: 0.3420 - val_loss: 1.7458 - val_acc: 0.3779\n",
      "Epoch 19/50\n",
      "50000/50000 [==============================] - 4s 77us/step - loss: 1.7915 - acc: 0.3458 - val_loss: 1.7303 - val_acc: 0.3881\n",
      "Epoch 20/50\n",
      "50000/50000 [==============================] - 4s 77us/step - loss: 1.7970 - acc: 0.3430 - val_loss: 1.7266 - val_acc: 0.3938\n",
      "Epoch 21/50\n",
      "50000/50000 [==============================] - 4s 76us/step - loss: 1.7829 - acc: 0.3479 - val_loss: 1.7192 - val_acc: 0.3887\n",
      "Epoch 22/50\n",
      "50000/50000 [==============================] - 4s 74us/step - loss: 1.7850 - acc: 0.3483 - val_loss: 1.7356 - val_acc: 0.3777\n",
      "Epoch 23/50\n",
      "50000/50000 [==============================] - 4s 75us/step - loss: 1.7823 - acc: 0.3473 - val_loss: 1.7274 - val_acc: 0.3897\n",
      "Epoch 24/50\n",
      "50000/50000 [==============================] - 4s 77us/step - loss: 1.7787 - acc: 0.3527 - val_loss: 1.7161 - val_acc: 0.3983\n",
      "Epoch 25/50\n",
      "50000/50000 [==============================] - 4s 79us/step - loss: 1.7792 - acc: 0.3488 - val_loss: 1.7396 - val_acc: 0.3850\n",
      "Epoch 26/50\n",
      "50000/50000 [==============================] - 4s 71us/step - loss: 1.7740 - acc: 0.3500 - val_loss: 1.7288 - val_acc: 0.3895\n",
      "Epoch 27/50\n",
      "50000/50000 [==============================] - 4s 73us/step - loss: 1.7783 - acc: 0.3495 - val_loss: 1.6938 - val_acc: 0.4027\n",
      "Epoch 28/50\n",
      "50000/50000 [==============================] - 4s 76us/step - loss: 1.7762 - acc: 0.3518 - val_loss: 1.6870 - val_acc: 0.4092\n",
      "Epoch 29/50\n",
      "50000/50000 [==============================] - 4s 72us/step - loss: 1.7771 - acc: 0.3519 - val_loss: 1.6896 - val_acc: 0.3928\n",
      "Epoch 30/50\n",
      "50000/50000 [==============================] - 4s 74us/step - loss: 1.7693 - acc: 0.3536 - val_loss: 1.7346 - val_acc: 0.3935\n",
      "Epoch 31/50\n",
      "50000/50000 [==============================] - 4s 72us/step - loss: 1.7745 - acc: 0.3544 - val_loss: 1.6935 - val_acc: 0.4031\n",
      "Epoch 32/50\n",
      "50000/50000 [==============================] - 4s 73us/step - loss: 1.7693 - acc: 0.3564 - val_loss: 1.7192 - val_acc: 0.3945\n",
      "Epoch 33/50\n",
      "50000/50000 [==============================] - 4s 72us/step - loss: 1.7600 - acc: 0.3610 - val_loss: 1.6887 - val_acc: 0.3935\n",
      "Epoch 34/50\n",
      "50000/50000 [==============================] - 4s 73us/step - loss: 1.7625 - acc: 0.3602 - val_loss: 1.7044 - val_acc: 0.3907\n",
      "Epoch 35/50\n",
      "50000/50000 [==============================] - 4s 73us/step - loss: 1.7693 - acc: 0.3531 - val_loss: 1.7009 - val_acc: 0.4026\n",
      "Epoch 36/50\n",
      "50000/50000 [==============================] - 4s 73us/step - loss: 1.7576 - acc: 0.3610 - val_loss: 1.6823 - val_acc: 0.3966\n",
      "Epoch 37/50\n",
      "50000/50000 [==============================] - 4s 73us/step - loss: 1.7588 - acc: 0.3600 - val_loss: 1.6895 - val_acc: 0.3979\n",
      "Epoch 38/50\n",
      "50000/50000 [==============================] - 4s 72us/step - loss: 1.7587 - acc: 0.3610 - val_loss: 1.7064 - val_acc: 0.3951\n",
      "Epoch 39/50\n",
      "50000/50000 [==============================] - 4s 73us/step - loss: 1.7564 - acc: 0.3614 - val_loss: 1.7307 - val_acc: 0.3868\n",
      "Epoch 40/50\n",
      "50000/50000 [==============================] - 4s 71us/step - loss: 1.7509 - acc: 0.3659 - val_loss: 1.6886 - val_acc: 0.3966\n",
      "Epoch 41/50\n",
      "50000/50000 [==============================] - 4s 72us/step - loss: 1.7512 - acc: 0.3621 - val_loss: 1.7104 - val_acc: 0.3831\n",
      "Epoch 42/50\n",
      "50000/50000 [==============================] - 4s 75us/step - loss: 1.7504 - acc: 0.3638 - val_loss: 1.6913 - val_acc: 0.3953\n",
      "Epoch 43/50\n",
      "50000/50000 [==============================] - 4s 71us/step - loss: 1.7564 - acc: 0.3614 - val_loss: 1.6764 - val_acc: 0.4032\n",
      "Epoch 44/50\n",
      "50000/50000 [==============================] - 4s 73us/step - loss: 1.7575 - acc: 0.3616 - val_loss: 1.6890 - val_acc: 0.3909\n",
      "Epoch 45/50\n",
      "50000/50000 [==============================] - 4s 76us/step - loss: 1.7487 - acc: 0.3661 - val_loss: 1.7237 - val_acc: 0.3917\n",
      "Epoch 46/50\n",
      "50000/50000 [==============================] - 4s 76us/step - loss: 1.7449 - acc: 0.3651 - val_loss: 1.7095 - val_acc: 0.3852\n",
      "Epoch 47/50\n",
      "50000/50000 [==============================] - 4s 72us/step - loss: 1.7507 - acc: 0.3644 - val_loss: 1.7219 - val_acc: 0.3877\n",
      "Epoch 48/50\n",
      "50000/50000 [==============================] - 4s 71us/step - loss: 1.7441 - acc: 0.3666 - val_loss: 1.7037 - val_acc: 0.3957\n",
      "Epoch 49/50\n"
     ]
    },
    {
     "name": "stdout",
     "output_type": "stream",
     "text": [
      "50000/50000 [==============================] - 4s 76us/step - loss: 1.7388 - acc: 0.3714 - val_loss: 1.6734 - val_acc: 0.4038\n",
      "Epoch 50/50\n",
      "50000/50000 [==============================] - 4s 71us/step - loss: 1.7504 - acc: 0.3646 - val_loss: 1.6545 - val_acc: 0.4119\n"
     ]
    }
   ],
   "source": [
    "model = build_mlp(input_shape=x_train.shape[1:], drp_ratio=Dropout_EXP)\n",
    "model.summary()\n",
    "optimizer = keras.optimizers.Adam(lr=LEARNING_RATE)\n",
    "model.compile(loss=\"categorical_crossentropy\", metrics=[\"accuracy\"], optimizer=optimizer)\n",
    "\n",
    "model.fit(x_train, y_train, \n",
    "          epochs=EPOCHS, \n",
    "          batch_size=BATCH_SIZE, \n",
    "          validation_data=(x_test, y_test), \n",
    "          shuffle=True)\n",
    "\n",
    "# Collect results\n",
    "train_loss = model.history.history[\"loss\"]\n",
    "valid_loss = model.history.history[\"val_loss\"]\n",
    "train_acc = model.history.history[\"acc\"]\n",
    "valid_acc = model.history.history[\"val_acc\"]"
   ]
  },
  {
   "cell_type": "code",
   "execution_count": 8,
   "metadata": {},
   "outputs": [
    {
     "data": {
      "image/png": "[encoded data removed]",
      "text/plain": [
       "<Figure size 432x288 with 1 Axes>"
      ]
     },
     "metadata": {
      "needs_background": "light"
     },
     "output_type": "display_data"
    },
    {
     "data": {
      "image/png": "[encoded data removed]",
      "text/plain": [
       "<Figure size 432x288 with 1 Axes>"
      ]
     },
     "metadata": {
      "needs_background": "light"
     },
     "output_type": "display_data"
    }
   ],
   "source": [
    "import matplotlib.pyplot as plt\n",
    "%matplotlib inline\n",
    "\n",
    "plt.plot(range(len(train_loss)), train_loss, label=\"train loss\")\n",
    "plt.plot(range(len(valid_loss)), valid_loss, label=\"valid loss\")\n",
    "plt.legend()\n",
    "plt.title(\"Loss\")\n",
    "plt.show()\n",
    "\n",
    "plt.plot(range(len(train_acc)), train_acc, label=\"train accuracy\")\n",
    "plt.plot(range(len(valid_acc)), valid_acc, label=\"valid accuracy\")\n",
    "plt.legend()\n",
    "plt.title(\"Accuracy\")\n",
    "plt.show()"
   ]
  }
 ],
 "metadata": {
  "kernelspec": {
   "display_name": "Python 3",
   "language": "python",
   "name": "python3"
  },
  "language_info": {
   "codemirror_mode": {
    "name": "ipython",
    "version": 3
   },
   "file_extension": ".py",
   "mimetype": "text/x-python",
   "name": "python",
   "nbconvert_exporter": "python",
   "pygments_lexer": "ipython3",
   "version": "3.5.6"
  }
 },
 "nbformat": 4,
 "nbformat_minor": 2
}
