{
 "cells": [
  {
   "cell_type": "markdown",
   "metadata": {},
   "source": [
    "## Work\n",
    "1. 請嘗試將 preproc_x 替換成以每筆資料的 min/max 進行標準化至 -1 ~ 1 間，再進行訓練\n",
    "2. 請嘗試將 mlp 疊更深 (e.g 5~10 層)，進行訓練後觀察 learning curve 的走勢\n",
    "3. (optional) 請改用 GPU 進行訓練 (如果你有 GPU 的話)，比較使用 CPU 與 GPU 的訓練速度"
   ]
  },
  {
   "cell_type": "code",
   "execution_count": 1,
   "metadata": {},
   "outputs": [
    {
     "data": {
      "text/plain": [
       "'\\nYour code here (optional)\\n確認硬體資源\\n'"
      ]
     },
     "execution_count": 1,
     "metadata": {},
     "output_type": "execute_result"
    }
   ],
   "source": [
    "## \n",
    "\"\"\"\n",
    "Your code here (optional)\n",
    "確認硬體資源\n",
    "\"\"\""
   ]
  },
  {
   "cell_type": "code",
   "execution_count": 2,
   "metadata": {},
   "outputs": [
    {
     "name": "stderr",
     "output_type": "stream",
     "text": [
      "C:\\Users\\useR\\Anaconda3\\envs\\tensorflow-gpu\\lib\\site-packages\\h5py\\__init__.py:36: FutureWarning: Conversion of the second argument of issubdtype from `float` to `np.floating` is deprecated. In future, it will be treated as `np.float64 == np.dtype(float).type`.\n",
      "  from ._conv import register_converters as _register_converters\n",
      "Using TensorFlow backend.\n",
      "C:\\Users\\useR\\Anaconda3\\envs\\tensorflow-gpu\\lib\\site-packages\\tensorflow\\python\\framework\\dtypes.py:523: FutureWarning: Passing (type, 1) or '1type' as a synonym of type is deprecated; in a future version of numpy, it will be understood as (type, (1,)) / '(1,)type'.\n",
      "  _np_qint8 = np.dtype([(\"qint8\", np.int8, 1)])\n",
      "C:\\Users\\useR\\Anaconda3\\envs\\tensorflow-gpu\\lib\\site-packages\\tensorflow\\python\\framework\\dtypes.py:524: FutureWarning: Passing (type, 1) or '1type' as a synonym of type is deprecated; in a future version of numpy, it will be understood as (type, (1,)) / '(1,)type'.\n",
      "  _np_quint8 = np.dtype([(\"quint8\", np.uint8, 1)])\n",
      "C:\\Users\\useR\\Anaconda3\\envs\\tensorflow-gpu\\lib\\site-packages\\tensorflow\\python\\framework\\dtypes.py:525: FutureWarning: Passing (type, 1) or '1type' as a synonym of type is deprecated; in a future version of numpy, it will be understood as (type, (1,)) / '(1,)type'.\n",
      "  _np_qint16 = np.dtype([(\"qint16\", np.int16, 1)])\n",
      "C:\\Users\\useR\\Anaconda3\\envs\\tensorflow-gpu\\lib\\site-packages\\tensorflow\\python\\framework\\dtypes.py:526: FutureWarning: Passing (type, 1) or '1type' as a synonym of type is deprecated; in a future version of numpy, it will be understood as (type, (1,)) / '(1,)type'.\n",
      "  _np_quint16 = np.dtype([(\"quint16\", np.uint16, 1)])\n",
      "C:\\Users\\useR\\Anaconda3\\envs\\tensorflow-gpu\\lib\\site-packages\\tensorflow\\python\\framework\\dtypes.py:527: FutureWarning: Passing (type, 1) or '1type' as a synonym of type is deprecated; in a future version of numpy, it will be understood as (type, (1,)) / '(1,)type'.\n",
      "  _np_qint32 = np.dtype([(\"qint32\", np.int32, 1)])\n",
      "C:\\Users\\useR\\Anaconda3\\envs\\tensorflow-gpu\\lib\\site-packages\\tensorflow\\python\\framework\\dtypes.py:532: FutureWarning: Passing (type, 1) or '1type' as a synonym of type is deprecated; in a future version of numpy, it will be understood as (type, (1,)) / '(1,)type'.\n",
      "  np_resource = np.dtype([(\"resource\", np.ubyte, 1)])\n"
     ]
    }
   ],
   "source": [
    "import os\n",
    "import keras\n",
    "\n",
    "# 請嘗試設定 GPU：os.environ\n",
    "os.environ[\"CUDA_VISIBLE_DEVICES\"] = \"0\""
   ]
  },
  {
   "cell_type": "code",
   "execution_count": 3,
   "metadata": {},
   "outputs": [],
   "source": [
    "train, test = keras.datasets.cifar10.load_data()"
   ]
  },
  {
   "cell_type": "code",
   "execution_count": 4,
   "metadata": {},
   "outputs": [],
   "source": [
    "## 資料前處理\n",
    "def preproc_x(x, flatten=True):\n",
    "    x = x / 255.\n",
    "    if flatten:\n",
    "        x = x.reshape((len(x), -1))\n",
    "    return x\n",
    "\n",
    "def preproc_y(y, num_classes=10):\n",
    "    if y.shape[-1] == 1:\n",
    "        y = keras.utils.to_categorical(y, num_classes)\n",
    "    return y  "
   ]
  },
  {
   "cell_type": "code",
   "execution_count": 5,
   "metadata": {},
   "outputs": [],
   "source": [
    "x_train, y_train = train\n",
    "x_test, y_test = test\n",
    "\n",
    "# Preproc the inputs\n",
    "x_train = preproc_x(x_train)\n",
    "x_test = preproc_x(x_test)\n",
    "\n",
    "# Preprc the outputs\n",
    "y_train = preproc_y(y_train)\n",
    "y_test = preproc_y(y_test)"
   ]
  },
  {
   "cell_type": "code",
   "execution_count": 6,
   "metadata": {},
   "outputs": [
    {
     "name": "stdout",
     "output_type": "stream",
     "text": [
      "Model: \"model_1\"\n",
      "_________________________________________________________________\n",
      "Layer (type)                 Output Shape              Param #   \n",
      "=================================================================\n",
      "input_1 (InputLayer)         (None, 3072)              0         \n",
      "_________________________________________________________________\n",
      "hidden_layer1 (Dense)        (None, 512)               1573376   \n",
      "_________________________________________________________________\n",
      "hidden_layer2 (Dense)        (None, 256)               131328    \n",
      "_________________________________________________________________\n",
      "hidden_layer3 (Dense)        (None, 128)               32896     \n",
      "_________________________________________________________________\n",
      "hidden_layer4 (Dense)        (None, 64)                8256      \n",
      "_________________________________________________________________\n",
      "hidden_layer5 (Dense)        (None, 32)                2080      \n",
      "_________________________________________________________________\n",
      "output (Dense)               (None, 10)                330       \n",
      "=================================================================\n",
      "Total params: 1,748,266\n",
      "Trainable params: 1,748,266\n",
      "Non-trainable params: 0\n",
      "_________________________________________________________________\n"
     ]
    }
   ],
   "source": [
    "def build_mlp(input_shape, output_units=10, num_neurons=[512, 256, 128, 64, 32]):\n",
    "    input_layer = keras.layers.Input(input_shape)\n",
    "    \n",
    "    for i, n_units in enumerate(num_neurons):\n",
    "        if i == 0:\n",
    "            x = keras.layers.Dense(units=n_units, activation=\"relu\", name=\"hidden_layer\"+str(i+1))(input_layer)\n",
    "        else:\n",
    "            x = keras.layers.Dense(units=n_units, activation=\"relu\", name=\"hidden_layer\"+str(i+1))(x)\n",
    "    \n",
    "    out = keras.layers.Dense(units=output_units, activation=\"softmax\", name=\"output\")(x)\n",
    "    \n",
    "    model = keras.models.Model(inputs=[input_layer], outputs=[out])\n",
    "    return model\n",
    "\n",
    "model = build_mlp(input_shape=x_train.shape[1:])\n",
    "model.summary()"
   ]
  },
  {
   "cell_type": "code",
   "execution_count": 7,
   "metadata": {},
   "outputs": [],
   "source": [
    "## 超參數設定\n",
    "LEARNING_RATE = 0.001\n",
    "EPOCHS = 100\n",
    "BATCH_SIZE = 32"
   ]
  },
  {
   "cell_type": "code",
   "execution_count": 8,
   "metadata": {},
   "outputs": [],
   "source": [
    "optimizer = keras.optimizers.Adam(lr=LEARNING_RATE)\n",
    "model.compile(loss=\"categorical_crossentropy\", metrics=[\"accuracy\"], optimizer=optimizer)"
   ]
  },
  {
   "cell_type": "code",
   "execution_count": 9,
   "metadata": {},
   "outputs": [
    {
     "name": "stdout",
     "output_type": "stream",
     "text": [
      "Train on 50000 samples, validate on 10000 samples\n",
      "Epoch 1/100\n",
      "50000/50000 [==============================] - 15s 309us/step - loss: 1.9313 - acc: 0.2906 - val_loss: 1.8217 - val_acc: 0.3354\n",
      "Epoch 2/100\n",
      "50000/50000 [==============================] - 13s 263us/step - loss: 1.7353 - acc: 0.3721 - val_loss: 1.6703 - val_acc: 0.4012\n",
      "Epoch 3/100\n",
      "50000/50000 [==============================] - 13s 269us/step - loss: 1.6508 - acc: 0.4070 - val_loss: 1.6005 - val_acc: 0.4271\n",
      "Epoch 4/100\n",
      "50000/50000 [==============================] - 13s 264us/step - loss: 1.5917 - acc: 0.4296 - val_loss: 1.5957 - val_acc: 0.4269\n",
      "Epoch 5/100\n",
      "50000/50000 [==============================] - 13s 268us/step - loss: 1.5469 - acc: 0.4435 - val_loss: 1.5736 - val_acc: 0.4438\n",
      "Epoch 6/100\n",
      "50000/50000 [==============================] - 13s 258us/step - loss: 1.5110 - acc: 0.4582 - val_loss: 1.5157 - val_acc: 0.4631\n",
      "Epoch 7/100\n",
      "50000/50000 [==============================] - 13s 262us/step - loss: 1.4827 - acc: 0.4678 - val_loss: 1.4978 - val_acc: 0.4614\n",
      "Epoch 8/100\n",
      "50000/50000 [==============================] - 13s 260us/step - loss: 1.4471 - acc: 0.4818 - val_loss: 1.4903 - val_acc: 0.4677\n",
      "Epoch 9/100\n",
      "50000/50000 [==============================] - 13s 263us/step - loss: 1.4262 - acc: 0.4894 - val_loss: 1.4870 - val_acc: 0.4759\n",
      "Epoch 10/100\n",
      "50000/50000 [==============================] - 12s 249us/step - loss: 1.4053 - acc: 0.4973 - val_loss: 1.4843 - val_acc: 0.4680\n",
      "Epoch 11/100\n",
      "50000/50000 [==============================] - 14s 271us/step - loss: 1.3847 - acc: 0.5029 - val_loss: 1.4938 - val_acc: 0.4719\n",
      "Epoch 12/100\n",
      "50000/50000 [==============================] - 13s 252us/step - loss: 1.3634 - acc: 0.5123 - val_loss: 1.4897 - val_acc: 0.4750\n",
      "Epoch 13/100\n",
      "50000/50000 [==============================] - 12s 249us/step - loss: 1.3473 - acc: 0.5157 - val_loss: 1.4637 - val_acc: 0.4858\n",
      "Epoch 14/100\n",
      "50000/50000 [==============================] - 12s 245us/step - loss: 1.3255 - acc: 0.5233 - val_loss: 1.4854 - val_acc: 0.4789\n",
      "Epoch 15/100\n",
      "50000/50000 [==============================] - 12s 246us/step - loss: 1.3105 - acc: 0.5290 - val_loss: 1.4466 - val_acc: 0.4970\n",
      "Epoch 16/100\n",
      "50000/50000 [==============================] - 12s 243us/step - loss: 1.2920 - acc: 0.5348 - val_loss: 1.4578 - val_acc: 0.4965\n",
      "Epoch 17/100\n",
      "50000/50000 [==============================] - 12s 244us/step - loss: 1.2744 - acc: 0.5429 - val_loss: 1.4381 - val_acc: 0.5023\n",
      "Epoch 18/100\n",
      "50000/50000 [==============================] - 12s 245us/step - loss: 1.2626 - acc: 0.5459 - val_loss: 1.4326 - val_acc: 0.5011\n",
      "Epoch 19/100\n",
      "50000/50000 [==============================] - 12s 244us/step - loss: 1.2477 - acc: 0.5516 - val_loss: 1.5617 - val_acc: 0.4694\n",
      "Epoch 20/100\n",
      "50000/50000 [==============================] - 12s 243us/step - loss: 1.2358 - acc: 0.5569 - val_loss: 1.4769 - val_acc: 0.4928\n",
      "Epoch 21/100\n",
      "50000/50000 [==============================] - 12s 243us/step - loss: 1.2199 - acc: 0.5627 - val_loss: 1.4936 - val_acc: 0.4884\n",
      "Epoch 22/100\n",
      "50000/50000 [==============================] - 12s 242us/step - loss: 1.2079 - acc: 0.5663 - val_loss: 1.4738 - val_acc: 0.4953\n",
      "Epoch 23/100\n",
      "50000/50000 [==============================] - 12s 243us/step - loss: 1.1911 - acc: 0.5727 - val_loss: 1.4633 - val_acc: 0.4962\n",
      "Epoch 24/100\n",
      "50000/50000 [==============================] - 12s 242us/step - loss: 1.1781 - acc: 0.5768 - val_loss: 1.4888 - val_acc: 0.4935\n",
      "Epoch 25/100\n",
      "50000/50000 [==============================] - 12s 244us/step - loss: 1.1606 - acc: 0.5822 - val_loss: 1.4876 - val_acc: 0.4960\n",
      "Epoch 26/100\n",
      "50000/50000 [==============================] - 12s 242us/step - loss: 1.1556 - acc: 0.5859 - val_loss: 1.5000 - val_acc: 0.5041\n",
      "Epoch 27/100\n",
      "50000/50000 [==============================] - 12s 242us/step - loss: 1.1395 - acc: 0.5887 - val_loss: 1.4878 - val_acc: 0.4980\n",
      "Epoch 28/100\n",
      "50000/50000 [==============================] - 12s 244us/step - loss: 1.1295 - acc: 0.5936 - val_loss: 1.5267 - val_acc: 0.4862\n",
      "Epoch 29/100\n",
      "50000/50000 [==============================] - 12s 242us/step - loss: 1.1206 - acc: 0.5962 - val_loss: 1.4854 - val_acc: 0.5028\n",
      "Epoch 30/100\n",
      "50000/50000 [==============================] - 12s 242us/step - loss: 1.1029 - acc: 0.6024 - val_loss: 1.5162 - val_acc: 0.5032\n",
      "Epoch 31/100\n",
      "50000/50000 [==============================] - 12s 243us/step - loss: 1.0959 - acc: 0.6043 - val_loss: 1.5559 - val_acc: 0.4811\n",
      "Epoch 32/100\n",
      "50000/50000 [==============================] - 12s 242us/step - loss: 1.0813 - acc: 0.6112 - val_loss: 1.5130 - val_acc: 0.4931\n",
      "Epoch 33/100\n",
      "50000/50000 [==============================] - 12s 243us/step - loss: 1.0784 - acc: 0.6108 - val_loss: 1.5910 - val_acc: 0.4806\n",
      "Epoch 34/100\n",
      "50000/50000 [==============================] - 12s 242us/step - loss: 1.0627 - acc: 0.6189 - val_loss: 1.5439 - val_acc: 0.4993\n",
      "Epoch 35/100\n",
      "50000/50000 [==============================] - 13s 252us/step - loss: 1.0558 - acc: 0.6196 - val_loss: 1.5854 - val_acc: 0.4911\n",
      "Epoch 36/100\n",
      "50000/50000 [==============================] - 12s 243us/step - loss: 1.0460 - acc: 0.6219 - val_loss: 1.6032 - val_acc: 0.4769\n",
      "Epoch 37/100\n",
      "50000/50000 [==============================] - 12s 244us/step - loss: 1.0279 - acc: 0.6288 - val_loss: 1.5282 - val_acc: 0.5059\n",
      "Epoch 38/100\n",
      "50000/50000 [==============================] - 12s 243us/step - loss: 1.0235 - acc: 0.6315 - val_loss: 1.6249 - val_acc: 0.4966\n",
      "Epoch 39/100\n",
      "50000/50000 [==============================] - 12s 242us/step - loss: 1.0149 - acc: 0.6332 - val_loss: 1.6042 - val_acc: 0.4966\n",
      "Epoch 40/100\n",
      "50000/50000 [==============================] - 12s 243us/step - loss: 1.0067 - acc: 0.6377 - val_loss: 1.6144 - val_acc: 0.4916\n",
      "Epoch 41/100\n",
      "50000/50000 [==============================] - 12s 242us/step - loss: 0.9948 - acc: 0.6430 - val_loss: 1.6581 - val_acc: 0.4930\n",
      "Epoch 42/100\n",
      "50000/50000 [==============================] - 12s 242us/step - loss: 0.9898 - acc: 0.6423 - val_loss: 1.6279 - val_acc: 0.4925\n",
      "Epoch 43/100\n",
      "50000/50000 [==============================] - 12s 243us/step - loss: 0.9745 - acc: 0.6496 - val_loss: 1.6778 - val_acc: 0.4907\n",
      "Epoch 44/100\n",
      "50000/50000 [==============================] - 12s 243us/step - loss: 0.9723 - acc: 0.6478 - val_loss: 1.6581 - val_acc: 0.4928\n",
      "Epoch 45/100\n",
      "50000/50000 [==============================] - 12s 243us/step - loss: 0.9617 - acc: 0.6518 - val_loss: 1.6715 - val_acc: 0.4820\n",
      "Epoch 46/100\n",
      "50000/50000 [==============================] - 12s 243us/step - loss: 0.9536 - acc: 0.6553 - val_loss: 1.6740 - val_acc: 0.4966\n",
      "Epoch 47/100\n",
      "50000/50000 [==============================] - 12s 242us/step - loss: 0.9492 - acc: 0.6562 - val_loss: 1.7071 - val_acc: 0.4927\n",
      "Epoch 48/100\n",
      "50000/50000 [==============================] - 12s 242us/step - loss: 0.9364 - acc: 0.6613 - val_loss: 1.7475 - val_acc: 0.4850\n",
      "Epoch 49/100\n",
      "50000/50000 [==============================] - 12s 242us/step - loss: 0.9330 - acc: 0.6634 - val_loss: 1.6893 - val_acc: 0.4901\n",
      "Epoch 50/100\n",
      "50000/50000 [==============================] - 12s 242us/step - loss: 0.9208 - acc: 0.6668 - val_loss: 1.7342 - val_acc: 0.4876\n",
      "Epoch 51/100\n",
      "50000/50000 [==============================] - 12s 242us/step - loss: 0.9203 - acc: 0.6676 - val_loss: 1.8747 - val_acc: 0.4716\n",
      "Epoch 52/100\n",
      "50000/50000 [==============================] - 12s 242us/step - loss: 0.9130 - acc: 0.6688 - val_loss: 1.7273 - val_acc: 0.4884\n",
      "Epoch 53/100\n",
      "50000/50000 [==============================] - 12s 242us/step - loss: 0.9065 - acc: 0.6725 - val_loss: 1.7426 - val_acc: 0.4905\n",
      "Epoch 54/100\n",
      "50000/50000 [==============================] - 12s 243us/step - loss: 0.8954 - acc: 0.6743 - val_loss: 1.7741 - val_acc: 0.4851\n",
      "Epoch 55/100\n",
      "50000/50000 [==============================] - 12s 244us/step - loss: 0.8871 - acc: 0.6795 - val_loss: 1.7660 - val_acc: 0.4942\n",
      "Epoch 56/100\n",
      "50000/50000 [==============================] - 12s 242us/step - loss: 0.8821 - acc: 0.6796 - val_loss: 1.7865 - val_acc: 0.4807\n",
      "Epoch 57/100\n",
      "50000/50000 [==============================] - 12s 243us/step - loss: 0.8784 - acc: 0.6835 - val_loss: 1.8504 - val_acc: 0.4831\n",
      "Epoch 58/100\n",
      "50000/50000 [==============================] - 12s 243us/step - loss: 0.8635 - acc: 0.6886 - val_loss: 1.8832 - val_acc: 0.4863\n"
     ]
    },
    {
     "name": "stdout",
     "output_type": "stream",
     "text": [
      "Epoch 59/100\n",
      "50000/50000 [==============================] - 12s 243us/step - loss: 0.8643 - acc: 0.6881 - val_loss: 1.8269 - val_acc: 0.4853\n",
      "Epoch 60/100\n",
      "50000/50000 [==============================] - 12s 242us/step - loss: 0.8596 - acc: 0.6901 - val_loss: 1.8209 - val_acc: 0.4826\n",
      "Epoch 61/100\n",
      "50000/50000 [==============================] - 12s 242us/step - loss: 0.8515 - acc: 0.6914 - val_loss: 1.8277 - val_acc: 0.4895\n",
      "Epoch 62/100\n",
      "50000/50000 [==============================] - 12s 241us/step - loss: 0.8419 - acc: 0.6943 - val_loss: 1.8302 - val_acc: 0.4855\n",
      "Epoch 63/100\n",
      "50000/50000 [==============================] - 12s 242us/step - loss: 0.8383 - acc: 0.6970 - val_loss: 1.8357 - val_acc: 0.4872\n",
      "Epoch 64/100\n",
      "50000/50000 [==============================] - 12s 243us/step - loss: 0.8350 - acc: 0.6979 - val_loss: 1.8696 - val_acc: 0.4871\n",
      "Epoch 65/100\n",
      "50000/50000 [==============================] - 12s 242us/step - loss: 0.8292 - acc: 0.7017 - val_loss: 1.9048 - val_acc: 0.4752\n",
      "Epoch 66/100\n",
      "50000/50000 [==============================] - 12s 242us/step - loss: 0.8241 - acc: 0.7019 - val_loss: 1.8801 - val_acc: 0.4875\n",
      "Epoch 67/100\n",
      "50000/50000 [==============================] - 12s 242us/step - loss: 0.8171 - acc: 0.7037 - val_loss: 1.9812 - val_acc: 0.4795\n",
      "Epoch 68/100\n",
      "50000/50000 [==============================] - 12s 242us/step - loss: 0.8202 - acc: 0.7050 - val_loss: 1.8969 - val_acc: 0.4926\n",
      "Epoch 69/100\n",
      "50000/50000 [==============================] - 12s 242us/step - loss: 0.8050 - acc: 0.7077 - val_loss: 1.8755 - val_acc: 0.4881\n",
      "Epoch 70/100\n",
      "50000/50000 [==============================] - 12s 242us/step - loss: 0.8017 - acc: 0.7075 - val_loss: 1.9090 - val_acc: 0.4872\n",
      "Epoch 71/100\n",
      "50000/50000 [==============================] - 12s 242us/step - loss: 0.7955 - acc: 0.7116 - val_loss: 1.9649 - val_acc: 0.4849\n",
      "Epoch 72/100\n",
      "50000/50000 [==============================] - 12s 242us/step - loss: 0.7928 - acc: 0.7145 - val_loss: 1.9743 - val_acc: 0.4832\n",
      "Epoch 73/100\n",
      "50000/50000 [==============================] - 12s 242us/step - loss: 0.7859 - acc: 0.7138 - val_loss: 1.9041 - val_acc: 0.4881\n",
      "Epoch 74/100\n",
      "50000/50000 [==============================] - 12s 243us/step - loss: 0.7823 - acc: 0.7194 - val_loss: 1.9851 - val_acc: 0.4856\n",
      "Epoch 75/100\n",
      "50000/50000 [==============================] - 12s 242us/step - loss: 0.7774 - acc: 0.7185 - val_loss: 2.0113 - val_acc: 0.4877\n",
      "Epoch 76/100\n",
      "50000/50000 [==============================] - 12s 242us/step - loss: 0.7782 - acc: 0.7187 - val_loss: 2.0084 - val_acc: 0.4853\n",
      "Epoch 77/100\n",
      "50000/50000 [==============================] - 12s 242us/step - loss: 0.7701 - acc: 0.7229 - val_loss: 2.0550 - val_acc: 0.4845\n",
      "Epoch 78/100\n",
      "50000/50000 [==============================] - 12s 242us/step - loss: 0.7613 - acc: 0.7258 - val_loss: 2.0751 - val_acc: 0.4791\n",
      "Epoch 79/100\n",
      "50000/50000 [==============================] - 12s 241us/step - loss: 0.7678 - acc: 0.7228 - val_loss: 2.0525 - val_acc: 0.4735\n",
      "Epoch 80/100\n",
      "50000/50000 [==============================] - 12s 241us/step - loss: 0.7585 - acc: 0.7263 - val_loss: 2.0166 - val_acc: 0.4835\n",
      "Epoch 81/100\n",
      "50000/50000 [==============================] - 12s 241us/step - loss: 0.7483 - acc: 0.7308 - val_loss: 2.0532 - val_acc: 0.4788\n",
      "Epoch 82/100\n",
      "50000/50000 [==============================] - 12s 242us/step - loss: 0.7503 - acc: 0.7289 - val_loss: 2.0935 - val_acc: 0.4758\n",
      "Epoch 83/100\n",
      "50000/50000 [==============================] - 12s 242us/step - loss: 0.7481 - acc: 0.7295 - val_loss: 2.0736 - val_acc: 0.4759\n",
      "Epoch 84/100\n",
      "50000/50000 [==============================] - 12s 242us/step - loss: 0.7444 - acc: 0.7323 - val_loss: 2.0249 - val_acc: 0.4862\n",
      "Epoch 85/100\n",
      "50000/50000 [==============================] - 12s 242us/step - loss: 0.7394 - acc: 0.7366 - val_loss: 2.0980 - val_acc: 0.4788\n",
      "Epoch 86/100\n",
      "50000/50000 [==============================] - 12s 242us/step - loss: 0.7315 - acc: 0.7355 - val_loss: 2.0571 - val_acc: 0.4858\n",
      "Epoch 87/100\n",
      "50000/50000 [==============================] - 12s 243us/step - loss: 0.7351 - acc: 0.7346 - val_loss: 2.1069 - val_acc: 0.4789\n",
      "Epoch 88/100\n",
      "50000/50000 [==============================] - 12s 244us/step - loss: 0.7290 - acc: 0.7388 - val_loss: 2.1135 - val_acc: 0.4734\n",
      "Epoch 89/100\n",
      "50000/50000 [==============================] - 12s 242us/step - loss: 0.7206 - acc: 0.7410 - val_loss: 2.1799 - val_acc: 0.4707\n",
      "Epoch 90/100\n",
      "50000/50000 [==============================] - 12s 243us/step - loss: 0.7192 - acc: 0.7426 - val_loss: 2.2260 - val_acc: 0.4753\n",
      "Epoch 91/100\n",
      "50000/50000 [==============================] - 12s 242us/step - loss: 0.7181 - acc: 0.7410 - val_loss: 2.0950 - val_acc: 0.4822\n",
      "Epoch 92/100\n",
      "50000/50000 [==============================] - 12s 242us/step - loss: 0.7040 - acc: 0.7465 - val_loss: 2.1955 - val_acc: 0.4808\n",
      "Epoch 93/100\n",
      "50000/50000 [==============================] - 12s 242us/step - loss: 0.7090 - acc: 0.7437 - val_loss: 2.1543 - val_acc: 0.4701\n",
      "Epoch 94/100\n",
      "50000/50000 [==============================] - 12s 242us/step - loss: 0.7141 - acc: 0.7401 - val_loss: 2.1227 - val_acc: 0.4772\n",
      "Epoch 95/100\n",
      "50000/50000 [==============================] - 12s 242us/step - loss: 0.6901 - acc: 0.7494 - val_loss: 2.2898 - val_acc: 0.4771\n",
      "Epoch 96/100\n",
      "50000/50000 [==============================] - 12s 242us/step - loss: 0.6971 - acc: 0.7481 - val_loss: 2.2603 - val_acc: 0.4748\n",
      "Epoch 97/100\n",
      "50000/50000 [==============================] - 12s 243us/step - loss: 0.6907 - acc: 0.7531 - val_loss: 2.1685 - val_acc: 0.4822\n",
      "Epoch 98/100\n",
      "50000/50000 [==============================] - 12s 242us/step - loss: 0.6944 - acc: 0.7493 - val_loss: 2.2521 - val_acc: 0.4720\n",
      "Epoch 99/100\n",
      "50000/50000 [==============================] - 12s 242us/step - loss: 0.6896 - acc: 0.7504 - val_loss: 2.2003 - val_acc: 0.4807\n",
      "Epoch 100/100\n",
      "50000/50000 [==============================] - 12s 242us/step - loss: 0.6825 - acc: 0.7552 - val_loss: 2.2807 - val_acc: 0.4694\n"
     ]
    },
    {
     "data": {
      "text/plain": [
       "<keras.callbacks.History at 0x221ee09a320>"
      ]
     },
     "execution_count": 9,
     "metadata": {},
     "output_type": "execute_result"
    }
   ],
   "source": [
    "model.fit(x_train, y_train, \n",
    "          epochs=EPOCHS, \n",
    "          batch_size=BATCH_SIZE, \n",
    "          validation_data=(x_test, y_test), \n",
    "          shuffle=True)"
   ]
  },
  {
   "cell_type": "code",
   "execution_count": 11,
   "metadata": {},
   "outputs": [
    {
     "data": {
      "image/png": "[encoded data removed]",
      "text/plain": [
       "<Figure size 432x288 with 1 Axes>"
      ]
     },
     "metadata": {},
     "output_type": "display_data"
    },
    {
     "data": {
      "image/png": "[encoded data removed]",
      "text/plain": [
       "<Figure size 432x288 with 1 Axes>"
      ]
     },
     "metadata": {},
     "output_type": "display_data"
    }
   ],
   "source": [
    "import matplotlib.pyplot as plt\n",
    "\n",
    "train_loss = model.history.history[\"loss\"]\n",
    "valid_loss = model.history.history[\"val_loss\"]\n",
    "\n",
    "train_acc = model.history.history[\"acc\"]\n",
    "valid_acc = model.history.history[\"val_acc\"]\n",
    "\n",
    "plt.plot(range(len(train_loss)), train_loss, label=\"train loss\")\n",
    "plt.plot(range(len(valid_loss)), valid_loss, label=\"valid loss\")\n",
    "plt.legend()\n",
    "plt.title(\"Loss\")\n",
    "plt.show()\n",
    "\n",
    "plt.plot(range(len(train_acc)), train_acc, label=\"train accuracy\")\n",
    "plt.plot(range(len(valid_acc)), valid_acc, label=\"valid accuracy\")\n",
    "plt.legend()\n",
    "plt.title(\"Accuracy\")\n",
    "plt.show()"
   ]
  },
  {
   "cell_type": "code",
   "execution_count": null,
   "metadata": {},
   "outputs": [],
   "source": []
  }
 ],
 "metadata": {
  "kernelspec": {
   "display_name": "Python 3",
   "language": "python",
   "name": "python3"
  },
  "language_info": {
   "codemirror_mode": {
    "name": "ipython",
    "version": 3
   },
   "file_extension": ".py",
   "mimetype": "text/x-python",
   "name": "python",
   "nbconvert_exporter": "python",
   "pygments_lexer": "ipython3",
   "version": "3.5.5"
  }
 },
 "nbformat": 4,
 "nbformat_minor": 2
}
