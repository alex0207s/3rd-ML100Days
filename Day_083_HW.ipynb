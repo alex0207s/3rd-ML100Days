{
 "cells": [
  {
   "cell_type": "markdown",
   "metadata": {},
   "source": [
    "## Work\n",
    "1. 試比較有 BN 在 Batch_size = 2, 16, 32, 128, 256 下的差異\n",
    "2. 請嘗試將 BN 放在 Activation 之前，並比較訓練結果\n",
    "3. 請於 BN 放在 Input Layer 後，並比較結果"
   ]
  },
  {
   "cell_type": "code",
   "execution_count": 1,
   "metadata": {},
   "outputs": [
    {
     "name": "stderr",
     "output_type": "stream",
     "text": [
      "Using TensorFlow backend.\n"
     ]
    }
   ],
   "source": [
    "import os\n",
    "import keras\n",
    "import itertools\n",
    "# Disable GPU\n",
    "os.environ[\"CUDA_VISIBLE_DEVICES\"] = \"0\""
   ]
  },
  {
   "cell_type": "code",
   "execution_count": 2,
   "metadata": {},
   "outputs": [],
   "source": [
    "train, test = keras.datasets.cifar10.load_data()"
   ]
  },
  {
   "cell_type": "code",
   "execution_count": 3,
   "metadata": {},
   "outputs": [],
   "source": [
    "## 資料前處理\n",
    "def preproc_x(x, flatten=True):\n",
    "    x = x / 255.\n",
    "    if flatten:\n",
    "        x = x.reshape((len(x), -1))\n",
    "    return x\n",
    "\n",
    "def preproc_y(y, num_classes=10):\n",
    "    if y.shape[-1] == 1:\n",
    "        y = keras.utils.to_categorical(y, num_classes)\n",
    "    return y    "
   ]
  },
  {
   "cell_type": "code",
   "execution_count": 4,
   "metadata": {},
   "outputs": [],
   "source": [
    "x_train, y_train = train\n",
    "x_test, y_test = test\n",
    "\n",
    "# Preproc the inputs\n",
    "x_train = preproc_x(x_train)\n",
    "x_test = preproc_x(x_test)\n",
    "\n",
    "# Preprc the outputs\n",
    "y_train = preproc_y(y_train)\n",
    "y_test = preproc_y(y_test)"
   ]
  },
  {
   "cell_type": "code",
   "execution_count": 5,
   "metadata": {},
   "outputs": [],
   "source": [
    "\n",
    "def build_mlp(input_shape, output_units=10, num_neurons=[256, 128, 64]):\n",
    "    input_layer = keras.layers.Input(input_shape)\n",
    "    \n",
    "    for i, n_units in enumerate(num_neurons):\n",
    "        if i == 0:\n",
    "            x = keras.layers.Dense(units=n_units, activation='relu', name='hidden_layer'+str(i+1))(input_layer)\n",
    "            x = keras.layers.BatchNormalization()(x)\n",
    "        else:\n",
    "            x = keras.layers.Dense(units=n_units, activation='relu', name='hidden_layer'+str(i+1))(x)\n",
    "            x = keras.layers.BatchNormalization()(x)\n",
    "            \n",
    "    out = keras.layers.Dense(units=output_units, activation='softmax', name='output')(x)\n",
    "    \n",
    "    model = keras.models.Model(inputs=[input_layer], outputs=[out])\n",
    "    return model"
   ]
  },
  {
   "cell_type": "code",
   "execution_count": 6,
   "metadata": {},
   "outputs": [],
   "source": [
    "## 超參數設定\n",
    "LEARNING_RATE = 5e-3\n",
    "EPOCHS = 50\n",
    "BATCH_SIZE = 32\n",
    "MOMENTUM = 0.95"
   ]
  },
  {
   "cell_type": "code",
   "execution_count": 7,
   "metadata": {
    "scrolled": true
   },
   "outputs": [
    {
     "name": "stdout",
     "output_type": "stream",
     "text": [
      "_________________________________________________________________\n",
      "Layer (type)                 Output Shape              Param #   \n",
      "=================================================================\n",
      "input_1 (InputLayer)         (None, 3072)              0         \n",
      "_________________________________________________________________\n",
      "hidden_layer1 (Dense)        (None, 256)               786688    \n",
      "_________________________________________________________________\n",
      "batch_normalization_1 (Batch (None, 256)               1024      \n",
      "_________________________________________________________________\n",
      "hidden_layer2 (Dense)        (None, 128)               32896     \n",
      "_________________________________________________________________\n",
      "batch_normalization_2 (Batch (None, 128)               512       \n",
      "_________________________________________________________________\n",
      "hidden_layer3 (Dense)        (None, 64)                8256      \n",
      "_________________________________________________________________\n",
      "batch_normalization_3 (Batch (None, 64)                256       \n",
      "_________________________________________________________________\n",
      "output (Dense)               (None, 10)                650       \n",
      "=================================================================\n",
      "Total params: 830,282\n",
      "Trainable params: 829,386\n",
      "Non-trainable params: 896\n",
      "_________________________________________________________________\n",
      "Train on 50000 samples, validate on 10000 samples\n",
      "Epoch 1/50\n",
      "50000/50000 [==============================] - 17s 332us/step - loss: 1.7652 - acc: 0.3703 - val_loss: 1.6174 - val_acc: 0.4276\n",
      "Epoch 2/50\n",
      "50000/50000 [==============================] - 15s 293us/step - loss: 1.5859 - acc: 0.4325 - val_loss: 1.6106 - val_acc: 0.4301\n",
      "Epoch 3/50\n",
      "50000/50000 [==============================] - 13s 253us/step - loss: 1.5158 - acc: 0.4570 - val_loss: 1.5199 - val_acc: 0.4604\n",
      "Epoch 4/50\n",
      "50000/50000 [==============================] - 13s 255us/step - loss: 1.4721 - acc: 0.4714 - val_loss: 1.4911 - val_acc: 0.4730\n",
      "Epoch 5/50\n",
      "50000/50000 [==============================] - 13s 255us/step - loss: 1.4323 - acc: 0.4883 - val_loss: 1.4729 - val_acc: 0.4727\n",
      "Epoch 6/50\n",
      "50000/50000 [==============================] - 13s 256us/step - loss: 1.3981 - acc: 0.5003 - val_loss: 1.4706 - val_acc: 0.4752\n",
      "Epoch 7/50\n",
      "50000/50000 [==============================] - 13s 255us/step - loss: 1.3690 - acc: 0.5118 - val_loss: 1.5182 - val_acc: 0.4554\n",
      "Epoch 8/50\n",
      "50000/50000 [==============================] - 13s 253us/step - loss: 1.3443 - acc: 0.5191 - val_loss: 1.4943 - val_acc: 0.4602\n",
      "Epoch 9/50\n",
      "50000/50000 [==============================] - 12s 248us/step - loss: 1.3234 - acc: 0.5279 - val_loss: 1.4125 - val_acc: 0.4941\n",
      "Epoch 10/50\n",
      "50000/50000 [==============================] - 13s 258us/step - loss: 1.3116 - acc: 0.5330 - val_loss: 1.4359 - val_acc: 0.4853\n",
      "Epoch 11/50\n",
      "50000/50000 [==============================] - 13s 255us/step - loss: 1.2895 - acc: 0.5409 - val_loss: 1.5074 - val_acc: 0.4638\n",
      "Epoch 12/50\n",
      "50000/50000 [==============================] - 13s 258us/step - loss: 1.2743 - acc: 0.5457 - val_loss: 1.3972 - val_acc: 0.5005\n",
      "Epoch 13/50\n",
      "50000/50000 [==============================] - 13s 258us/step - loss: 1.2633 - acc: 0.5497 - val_loss: 1.4337 - val_acc: 0.4865\n",
      "Epoch 14/50\n",
      "50000/50000 [==============================] - 13s 256us/step - loss: 1.2489 - acc: 0.5562 - val_loss: 1.4547 - val_acc: 0.4840\n",
      "Epoch 15/50\n",
      "50000/50000 [==============================] - 13s 259us/step - loss: 1.2402 - acc: 0.5575 - val_loss: 1.3999 - val_acc: 0.4975\n",
      "Epoch 16/50\n",
      "50000/50000 [==============================] - 13s 257us/step - loss: 1.2226 - acc: 0.5643 - val_loss: 1.4296 - val_acc: 0.4926\n",
      "Epoch 17/50\n",
      "50000/50000 [==============================] - 13s 262us/step - loss: 1.2141 - acc: 0.5676 - val_loss: 1.4491 - val_acc: 0.4916\n",
      "Epoch 18/50\n",
      "50000/50000 [==============================] - 13s 258us/step - loss: 1.2018 - acc: 0.5711 - val_loss: 1.4934 - val_acc: 0.4753\n",
      "Epoch 19/50\n",
      "50000/50000 [==============================] - 13s 256us/step - loss: 1.1932 - acc: 0.5731 - val_loss: 1.4248 - val_acc: 0.4984\n",
      "Epoch 20/50\n",
      "50000/50000 [==============================] - 13s 257us/step - loss: 1.1865 - acc: 0.5751 - val_loss: 1.4306 - val_acc: 0.4994\n",
      "Epoch 21/50\n",
      "50000/50000 [==============================] - 13s 255us/step - loss: 1.1774 - acc: 0.5794 - val_loss: 1.3969 - val_acc: 0.5098\n",
      "Epoch 22/50\n",
      "50000/50000 [==============================] - 13s 255us/step - loss: 1.1752 - acc: 0.5804 - val_loss: 1.4341 - val_acc: 0.4939\n",
      "Epoch 23/50\n",
      "50000/50000 [==============================] - 13s 256us/step - loss: 1.1625 - acc: 0.5868 - val_loss: 1.5221 - val_acc: 0.4803\n",
      "Epoch 24/50\n",
      "50000/50000 [==============================] - 13s 254us/step - loss: 1.1568 - acc: 0.5873 - val_loss: 1.4043 - val_acc: 0.5001\n",
      "Epoch 25/50\n",
      "50000/50000 [==============================] - 13s 255us/step - loss: 1.1549 - acc: 0.5869 - val_loss: 1.4139 - val_acc: 0.4979\n",
      "Epoch 26/50\n",
      "50000/50000 [==============================] - 13s 256us/step - loss: 1.1456 - acc: 0.5907 - val_loss: 1.3867 - val_acc: 0.5062\n",
      "Epoch 27/50\n",
      "50000/50000 [==============================] - 13s 256us/step - loss: 1.1344 - acc: 0.5960 - val_loss: 1.3985 - val_acc: 0.5036\n",
      "Epoch 28/50\n",
      "50000/50000 [==============================] - 13s 256us/step - loss: 1.1273 - acc: 0.5959 - val_loss: 1.4402 - val_acc: 0.4973\n",
      "Epoch 29/50\n",
      "50000/50000 [==============================] - 13s 256us/step - loss: 1.1265 - acc: 0.5971 - val_loss: 1.3729 - val_acc: 0.5164\n",
      "Epoch 30/50\n",
      "50000/50000 [==============================] - 13s 255us/step - loss: 1.1243 - acc: 0.5976 - val_loss: 1.3695 - val_acc: 0.5215\n",
      "Epoch 31/50\n",
      "50000/50000 [==============================] - 13s 255us/step - loss: 1.1140 - acc: 0.6017 - val_loss: 1.4351 - val_acc: 0.5001\n",
      "Epoch 32/50\n",
      "50000/50000 [==============================] - 13s 257us/step - loss: 1.1064 - acc: 0.6050 - val_loss: 1.4722 - val_acc: 0.4864\n",
      "Epoch 33/50\n",
      "50000/50000 [==============================] - 13s 256us/step - loss: 1.1029 - acc: 0.6065 - val_loss: 1.4435 - val_acc: 0.5041\n",
      "Epoch 34/50\n",
      "50000/50000 [==============================] - 13s 255us/step - loss: 1.0984 - acc: 0.6075 - val_loss: 1.4067 - val_acc: 0.5159\n",
      "Epoch 35/50\n",
      "50000/50000 [==============================] - 13s 254us/step - loss: 1.0870 - acc: 0.6114 - val_loss: 1.4484 - val_acc: 0.5042\n",
      "Epoch 36/50\n",
      "50000/50000 [==============================] - 13s 254us/step - loss: 1.0848 - acc: 0.6139 - val_loss: 1.5039 - val_acc: 0.4920\n",
      "Epoch 37/50\n",
      "50000/50000 [==============================] - 13s 256us/step - loss: 1.0796 - acc: 0.6163 - val_loss: 1.3973 - val_acc: 0.5198\n",
      "Epoch 38/50\n",
      "50000/50000 [==============================] - 13s 254us/step - loss: 1.0733 - acc: 0.6164 - val_loss: 1.4181 - val_acc: 0.5090\n",
      "Epoch 39/50\n",
      "50000/50000 [==============================] - 13s 254us/step - loss: 1.0679 - acc: 0.6179 - val_loss: 1.5214 - val_acc: 0.4906\n",
      "Epoch 40/50\n",
      "50000/50000 [==============================] - 13s 253us/step - loss: 1.0598 - acc: 0.6215 - val_loss: 1.4463 - val_acc: 0.5001\n",
      "Epoch 41/50\n",
      "50000/50000 [==============================] - 13s 253us/step - loss: 1.0589 - acc: 0.6226 - val_loss: 1.3845 - val_acc: 0.5219\n",
      "Epoch 42/50\n",
      "50000/50000 [==============================] - 13s 257us/step - loss: 1.0499 - acc: 0.6257 - val_loss: 1.4822 - val_acc: 0.4903\n",
      "Epoch 43/50\n",
      "50000/50000 [==============================] - 13s 266us/step - loss: 1.0424 - acc: 0.6289 - val_loss: 1.4073 - val_acc: 0.5181\n",
      "Epoch 44/50\n",
      "50000/50000 [==============================] - 13s 253us/step - loss: 1.0400 - acc: 0.6283 - val_loss: 1.4591 - val_acc: 0.5040\n",
      "Epoch 45/50\n",
      "50000/50000 [==============================] - 13s 252us/step - loss: 1.0331 - acc: 0.6318 - val_loss: 1.4657 - val_acc: 0.5175\n",
      "Epoch 46/50\n",
      "50000/50000 [==============================] - 13s 254us/step - loss: 1.0361 - acc: 0.6306 - val_loss: 1.4256 - val_acc: 0.5142\n",
      "Epoch 47/50\n",
      "50000/50000 [==============================] - 13s 253us/step - loss: 1.0385 - acc: 0.6299 - val_loss: 1.4476 - val_acc: 0.5078\n",
      "Epoch 48/50\n",
      "50000/50000 [==============================] - 13s 253us/step - loss: 1.0520 - acc: 0.6238 - val_loss: 1.3843 - val_acc: 0.5165\n",
      "Epoch 49/50\n"
     ]
    },
    {
     "name": "stdout",
     "output_type": "stream",
     "text": [
      "50000/50000 [==============================] - 13s 252us/step - loss: 1.0407 - acc: 0.6298 - val_loss: 1.3994 - val_acc: 0.5143\n",
      "Epoch 50/50\n",
      "50000/50000 [==============================] - 13s 254us/step - loss: 1.0335 - acc: 0.6295 - val_loss: 1.4768 - val_acc: 0.5035\n"
     ]
    }
   ],
   "source": [
    "model = build_mlp(input_shape=x_train.shape[1:])\n",
    "model.summary()\n",
    "optimizer = keras.optimizers.SGD(lr=LEARNING_RATE, nesterov=True, momentum=MOMENTUM)\n",
    "model.compile(loss=\"categorical_crossentropy\", metrics=[\"accuracy\"], optimizer=optimizer)\n",
    "\n",
    "model.fit(x_train, y_train, \n",
    "          epochs=EPOCHS, \n",
    "          batch_size=BATCH_SIZE, \n",
    "          validation_data=(x_test, y_test), \n",
    "          shuffle=True)\n",
    "\n",
    "# Collect results\n",
    "train_loss = model.history.history[\"loss\"]\n",
    "valid_loss = model.history.history[\"val_loss\"]\n",
    "train_acc = model.history.history[\"acc\"]\n",
    "valid_acc = model.history.history[\"val_acc\"]"
   ]
  },
  {
   "cell_type": "code",
   "execution_count": 8,
   "metadata": {},
   "outputs": [
    {
     "data": {
      "image/png": "[encoded data removed]",
      "text/plain": [
       "<Figure size 432x288 with 1 Axes>"
      ]
     },
     "metadata": {
      "needs_background": "light"
     },
     "output_type": "display_data"
    },
    {
     "data": {
      "image/png": "[encoded data removed]",
      "text/plain": [
       "<Figure size 432x288 with 1 Axes>"
      ]
     },
     "metadata": {
      "needs_background": "light"
     },
     "output_type": "display_data"
    }
   ],
   "source": [
    "import matplotlib.pyplot as plt\n",
    "%matplotlib inline\n",
    "\n",
    "plt.plot(range(len(train_loss)), train_loss, label=\"train loss\")\n",
    "plt.plot(range(len(valid_loss)), valid_loss, label=\"valid loss\")\n",
    "plt.legend()\n",
    "plt.title(\"Loss\")\n",
    "plt.show()\n",
    "\n",
    "plt.plot(range(len(train_acc)), train_acc, label=\"train accuracy\")\n",
    "plt.plot(range(len(valid_acc)), valid_acc, label=\"valid accuracy\")\n",
    "plt.legend()\n",
    "plt.title(\"Accuracy\")\n",
    "plt.show()"
   ]
  }
 ],
 "metadata": {
  "kernelspec": {
   "display_name": "Python 3",
   "language": "python",
   "name": "python3"
  },
  "language_info": {
   "codemirror_mode": {
    "name": "ipython",
    "version": 3
   },
   "file_extension": ".py",
   "mimetype": "text/x-python",
   "name": "python",
   "nbconvert_exporter": "python",
   "pygments_lexer": "ipython3",
   "version": "3.5.6"
  }
 },
 "nbformat": 4,
 "nbformat_minor": 2
}
