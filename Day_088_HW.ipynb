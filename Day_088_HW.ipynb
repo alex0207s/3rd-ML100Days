{
 "cells": [
  {
   "cell_type": "markdown",
   "metadata": {},
   "source": [
    "## Work\n",
    "1. 請嘗試寫一個 callback 用來記錄各類別在訓練過程中，對驗證集的 True Positive 與 True Negative"
   ]
  },
  {
   "cell_type": "code",
   "execution_count": 1,
   "metadata": {},
   "outputs": [
    {
     "name": "stderr",
     "output_type": "stream",
     "text": [
      "Using TensorFlow backend.\n"
     ]
    }
   ],
   "source": [
    "import os\n",
    "import keras\n",
    "import numpy as np\n",
    "\n",
    "# Disable GPU\n",
    "os.environ[\"CUDA_VISIBLE_DEVICES\"] = \"0\""
   ]
  },
  {
   "cell_type": "code",
   "execution_count": 2,
   "metadata": {},
   "outputs": [],
   "source": [
    "train, test = keras.datasets.cifar10.load_data()"
   ]
  },
  {
   "cell_type": "code",
   "execution_count": 3,
   "metadata": {},
   "outputs": [],
   "source": [
    "## 資料前處理\n",
    "def preproc_x(x, flatten=True):\n",
    "    x = x / 255.\n",
    "    if flatten:\n",
    "        x = x.reshape((len(x), -1))\n",
    "    return x\n",
    "\n",
    "def preproc_y(y, num_classes=10):\n",
    "    if y.shape[-1] == 1:\n",
    "        y = keras.utils.to_categorical(y, num_classes)\n",
    "    return y    "
   ]
  },
  {
   "cell_type": "code",
   "execution_count": 4,
   "metadata": {},
   "outputs": [],
   "source": [
    "x_train, y_train = train\n",
    "x_test, y_test = test\n",
    "\n",
    "# Preproc the inputs\n",
    "x_train = preproc_x(x_train)\n",
    "x_test = preproc_x(x_test)\n",
    "\n",
    "# Preprc the outputs\n",
    "y_train = preproc_y(y_train)\n",
    "y_test = preproc_y(y_test)"
   ]
  },
  {
   "cell_type": "code",
   "execution_count": 5,
   "metadata": {},
   "outputs": [],
   "source": [
    "from keras.layers import BatchNormalization\n",
    "\n",
    "def build_mlp(input_shape, output_units=10, num_neurons=[512, 256, 128]):\n",
    "    input_layer = keras.layers.Input(input_shape)\n",
    "    \n",
    "    for i, n_units in enumerate(num_neurons):\n",
    "        if i == 0:\n",
    "            x = keras.layers.Dense(units=n_units, \n",
    "                                   activation=\"relu\", \n",
    "                                   name=\"hidden_layer\"+str(i+1))(input_layer)\n",
    "            x = BatchNormalization()(x)\n",
    "        else:\n",
    "            x = keras.layers.Dense(units=n_units, \n",
    "                                   activation=\"relu\", \n",
    "                                   name=\"hidden_layer\"+str(i+1))(x)\n",
    "            x = BatchNormalization()(x)\n",
    "    \n",
    "    out = keras.layers.Dense(units=output_units, activation=\"softmax\", name=\"output\")(x)\n",
    "    \n",
    "    model = keras.models.Model(inputs=[input_layer], outputs=[out])\n",
    "    return model"
   ]
  },
  {
   "cell_type": "code",
   "execution_count": 6,
   "metadata": {},
   "outputs": [],
   "source": [
    "## 超參數設定\n",
    "LEARNING_RATE = 1e-3\n",
    "EPOCHS = 25\n",
    "BATCH_SIZE = 1024\n",
    "MOMENTUM = 0.95"
   ]
  },
  {
   "cell_type": "code",
   "execution_count": 7,
   "metadata": {},
   "outputs": [],
   "source": [
    "# 載入 Callbacks\n",
    "from keras.callbacks import Callback\n",
    "\n",
    "# Record_fp_tp\n",
    "class Record_tp_tn(Callback):\n",
    "    def on_train_begin(self, epoch, logs = {}, thres=0.5):\n",
    "        logs = logs or {}\n",
    "        record_items = [\"val_auc\", \"val_f1sc\", \"val_fp\", \"val_fn\", \"val_tp\", \"val_tn\"]\n",
    "        for i in record_items:\n",
    "            if i not in self.params['metrics']:\n",
    "                self.params['metrics'].append(i)\n",
    "    \n",
    "    def on_epoch_end(self, epoch, logs = {}, thres=0.5):\n",
    "        logs = logs or {}\n",
    "        x_test = self.validation_data[0]\n",
    "        y_test = np.round(self.validation_data[1].argmax(axis = 1))\n",
    "        print(x_test.shape)\n",
    "        print(y_test.shape)\n",
    "        y_pred = np.round(self.model.predict(x_test).argmax(axis = 1))\n",
    "        print(y_pred.shape)\n",
    "        \n",
    "        logs[\"val_tp\"] = np.sum(np.logical_and(y_pred == 1, y_test == 1))\n",
    "        logs[\"val_tn\"] = np.sum(np.logical_and(y_pred == 0, y_test == 0))\n",
    "        \n",
    "rec_tptn = Record_tp_tn()"
   ]
  },
  {
   "cell_type": "code",
   "execution_count": 8,
   "metadata": {
    "scrolled": true
   },
   "outputs": [
    {
     "name": "stdout",
     "output_type": "stream",
     "text": [
      "_________________________________________________________________\n",
      "Layer (type)                 Output Shape              Param #   \n",
      "=================================================================\n",
      "input_1 (InputLayer)         (None, 3072)              0         \n",
      "_________________________________________________________________\n",
      "hidden_layer1 (Dense)        (None, 512)               1573376   \n",
      "_________________________________________________________________\n",
      "batch_normalization_1 (Batch (None, 512)               2048      \n",
      "_________________________________________________________________\n",
      "hidden_layer2 (Dense)        (None, 256)               131328    \n",
      "_________________________________________________________________\n",
      "batch_normalization_2 (Batch (None, 256)               1024      \n",
      "_________________________________________________________________\n",
      "hidden_layer3 (Dense)        (None, 128)               32896     \n",
      "_________________________________________________________________\n",
      "batch_normalization_3 (Batch (None, 128)               512       \n",
      "_________________________________________________________________\n",
      "output (Dense)               (None, 10)                1290      \n",
      "=================================================================\n",
      "Total params: 1,742,474\n",
      "Trainable params: 1,740,682\n",
      "Non-trainable params: 1,792\n",
      "_________________________________________________________________\n",
      "Train on 50000 samples, validate on 10000 samples\n",
      "Epoch 1/25\n",
      "50000/50000 [==============================] - 5s 94us/step - loss: 2.2431 - acc: 0.2690 - val_loss: 2.0992 - val_acc: 0.3273\n",
      "(10000, 3072)\n",
      "(10000,)\n",
      "(10000,)\n",
      "Epoch 2/25\n",
      "50000/50000 [==============================] - 2s 47us/step - loss: 1.7322 - acc: 0.3974 - val_loss: 1.7982 - val_acc: 0.3817\n",
      "(10000, 3072)\n",
      "(10000,)\n",
      "(10000,)\n",
      "Epoch 3/25\n",
      "50000/50000 [==============================] - 2s 49us/step - loss: 1.6084 - acc: 0.4383 - val_loss: 1.6968 - val_acc: 0.4061\n",
      "(10000, 3072)\n",
      "(10000,)\n",
      "(10000,)\n",
      "Epoch 4/25\n",
      "50000/50000 [==============================] - 3s 50us/step - loss: 1.5377 - acc: 0.4615 - val_loss: 1.6282 - val_acc: 0.4359\n",
      "(10000, 3072)\n",
      "(10000,)\n",
      "(10000,)\n",
      "Epoch 5/25\n",
      "50000/50000 [==============================] - 2s 49us/step - loss: 1.4801 - acc: 0.4833 - val_loss: 1.6095 - val_acc: 0.4365\n",
      "(10000, 3072)\n",
      "(10000,)\n",
      "(10000,)\n",
      "Epoch 6/25\n",
      "50000/50000 [==============================] - 3s 50us/step - loss: 1.4356 - acc: 0.4981 - val_loss: 1.5754 - val_acc: 0.4498\n",
      "(10000, 3072)\n",
      "(10000,)\n",
      "(10000,)\n",
      "Epoch 7/25\n",
      "50000/50000 [==============================] - 2s 47us/step - loss: 1.3945 - acc: 0.5146 - val_loss: 1.5421 - val_acc: 0.4592\n",
      "(10000, 3072)\n",
      "(10000,)\n",
      "(10000,)\n",
      "Epoch 8/25\n",
      "50000/50000 [==============================] - 3s 51us/step - loss: 1.3590 - acc: 0.5262 - val_loss: 1.5244 - val_acc: 0.4673\n",
      "(10000, 3072)\n",
      "(10000,)\n",
      "(10000,)\n",
      "Epoch 9/25\n",
      "50000/50000 [==============================] - 2s 47us/step - loss: 1.3272 - acc: 0.5388 - val_loss: 1.5153 - val_acc: 0.4697\n",
      "(10000, 3072)\n",
      "(10000,)\n",
      "(10000,)\n",
      "Epoch 10/25\n",
      "50000/50000 [==============================] - 3s 50us/step - loss: 1.2952 - acc: 0.5490 - val_loss: 1.4989 - val_acc: 0.4723\n",
      "(10000, 3072)\n",
      "(10000,)\n",
      "(10000,)\n",
      "Epoch 11/25\n",
      "50000/50000 [==============================] - 2s 48us/step - loss: 1.2675 - acc: 0.5605 - val_loss: 1.4904 - val_acc: 0.4765\n",
      "(10000, 3072)\n",
      "(10000,)\n",
      "(10000,)\n",
      "Epoch 12/25\n",
      "50000/50000 [==============================] - 2s 49us/step - loss: 1.2398 - acc: 0.5711 - val_loss: 1.4839 - val_acc: 0.4871\n",
      "(10000, 3072)\n",
      "(10000,)\n",
      "(10000,)\n",
      "Epoch 13/25\n",
      "50000/50000 [==============================] - 2s 47us/step - loss: 1.2144 - acc: 0.5800 - val_loss: 1.4946 - val_acc: 0.4773\n",
      "(10000, 3072)\n",
      "(10000,)\n",
      "(10000,)\n",
      "Epoch 14/25\n",
      "50000/50000 [==============================] - 2s 48us/step - loss: 1.1894 - acc: 0.5904 - val_loss: 1.4743 - val_acc: 0.4915\n",
      "(10000, 3072)\n",
      "(10000,)\n",
      "(10000,)\n",
      "Epoch 15/25\n",
      "50000/50000 [==============================] - 2s 47us/step - loss: 1.1664 - acc: 0.5969 - val_loss: 1.4631 - val_acc: 0.4908\n",
      "(10000, 3072)\n",
      "(10000,)\n",
      "(10000,)\n",
      "Epoch 16/25\n",
      "50000/50000 [==============================] - 2s 47us/step - loss: 1.1415 - acc: 0.6064 - val_loss: 1.4776 - val_acc: 0.4888\n",
      "(10000, 3072)\n",
      "(10000,)\n",
      "(10000,)\n",
      "Epoch 17/25\n",
      "50000/50000 [==============================] - 2s 48us/step - loss: 1.1193 - acc: 0.6154 - val_loss: 1.4603 - val_acc: 0.4915\n",
      "(10000, 3072)\n",
      "(10000,)\n",
      "(10000,)\n",
      "Epoch 18/25\n",
      "50000/50000 [==============================] - 2s 48us/step - loss: 1.0972 - acc: 0.6232 - val_loss: 1.4595 - val_acc: 0.4968\n",
      "(10000, 3072)\n",
      "(10000,)\n",
      "(10000,)\n",
      "Epoch 19/25\n",
      "50000/50000 [==============================] - 2s 47us/step - loss: 1.0751 - acc: 0.6318 - val_loss: 1.4593 - val_acc: 0.4942\n",
      "(10000, 3072)\n",
      "(10000,)\n",
      "(10000,)\n",
      "Epoch 20/25\n",
      "50000/50000 [==============================] - 2s 48us/step - loss: 1.0534 - acc: 0.6406 - val_loss: 1.4647 - val_acc: 0.4885\n",
      "(10000, 3072)\n",
      "(10000,)\n",
      "(10000,)\n",
      "Epoch 21/25\n",
      "50000/50000 [==============================] - 2s 48us/step - loss: 1.0315 - acc: 0.6493 - val_loss: 1.4570 - val_acc: 0.4991\n",
      "(10000, 3072)\n",
      "(10000,)\n",
      "(10000,)\n",
      "Epoch 22/25\n",
      "50000/50000 [==============================] - 2s 48us/step - loss: 1.0088 - acc: 0.6572 - val_loss: 1.4505 - val_acc: 0.4966\n",
      "(10000, 3072)\n",
      "(10000,)\n",
      "(10000,)\n",
      "Epoch 23/25\n",
      "50000/50000 [==============================] - 2s 47us/step - loss: 0.9908 - acc: 0.6647 - val_loss: 1.4607 - val_acc: 0.4958\n",
      "(10000, 3072)\n",
      "(10000,)\n",
      "(10000,)\n",
      "Epoch 24/25\n",
      "50000/50000 [==============================] - 2s 47us/step - loss: 0.9700 - acc: 0.6713 - val_loss: 1.4577 - val_acc: 0.4974\n",
      "(10000, 3072)\n",
      "(10000,)\n",
      "(10000,)\n",
      "Epoch 25/25\n",
      "50000/50000 [==============================] - 2s 47us/step - loss: 0.9495 - acc: 0.6810 - val_loss: 1.4709 - val_acc: 0.4991\n",
      "(10000, 3072)\n",
      "(10000,)\n",
      "(10000,)\n"
     ]
    }
   ],
   "source": [
    "model = build_mlp(input_shape=x_train.shape[1:])\n",
    "model.summary()\n",
    "optimizer = keras.optimizers.SGD(lr=LEARNING_RATE, nesterov=True, momentum=MOMENTUM)\n",
    "model.compile(loss=\"categorical_crossentropy\", metrics=[\"accuracy\"], optimizer=optimizer)\n",
    "\n",
    "model.fit(x_train, y_train, \n",
    "          epochs=EPOCHS, \n",
    "          batch_size=BATCH_SIZE, \n",
    "          validation_data=(x_test, y_test), \n",
    "          shuffle=True,\n",
    "          callbacks=[rec_tptn]\n",
    "         )\n",
    "\n",
    "# Collect results\n",
    "train_loss = model.history.history[\"loss\"]\n",
    "valid_loss = model.history.history[\"val_loss\"]\n",
    "train_acc = model.history.history[\"acc\"]\n",
    "valid_acc = model.history.history[\"val_acc\"]\n",
    "\n",
    "\"\"\"Code Here\n",
    "將 tp/tn 從訓練完的模型中取出\n",
    "\"\"\"\n",
    "valid_tp = model.history.history[\"val_tp\"]\n",
    "valid_tn = model.history.history[\"val_tn\"]"
   ]
  },
  {
   "cell_type": "code",
   "execution_count": 9,
   "metadata": {},
   "outputs": [
    {
     "data": {
      "image/png": "[encoded data removed]",
      "text/plain": [
       "<Figure size 432x288 with 1 Axes>"
      ]
     },
     "metadata": {
      "needs_background": "light"
     },
     "output_type": "display_data"
    },
    {
     "data": {
      "image/png": "[encoded data removed]",
      "text/plain": [
       "<Figure size 432x288 with 1 Axes>"
      ]
     },
     "metadata": {
      "needs_background": "light"
     },
     "output_type": "display_data"
    },
    {
     "data": {
      "image/png": "[encoded data removed]",
      "text/plain": [
       "<Figure size 432x288 with 1 Axes>"
      ]
     },
     "metadata": {
      "needs_background": "light"
     },
     "output_type": "display_data"
    }
   ],
   "source": [
    "import matplotlib.pyplot as plt\n",
    "%matplotlib inline\n",
    "\n",
    "plt.plot(range(len(train_loss)), train_loss, label=\"train loss\")\n",
    "plt.plot(range(len(valid_loss)), valid_loss, label=\"valid loss\")\n",
    "plt.legend()\n",
    "plt.title(\"Loss\")\n",
    "plt.show()\n",
    "\n",
    "plt.plot(range(len(train_acc)), train_acc, label=\"train accuracy\")\n",
    "plt.plot(range(len(valid_acc)), valid_acc, label=\"valid accuracy\")\n",
    "plt.legend()\n",
    "plt.title(\"Accuracy\")\n",
    "plt.show()\n",
    "\n",
    "plt.plot(range(len(valid_tp)), valid_tp, label=\"valid tp\", color=\"navy\")\n",
    "plt.plot(range(len(valid_tn)), valid_tn, label=\"valid tn\", color=\"red\")\n",
    "plt.legend()\n",
    "plt.title(\"True positives and True Negatives\")\n",
    "plt.show()\n"
   ]
  }
 ],
 "metadata": {
  "kernelspec": {
   "display_name": "Python 3",
   "language": "python",
   "name": "python3"
  },
  "language_info": {
   "codemirror_mode": {
    "name": "ipython",
    "version": 3
   },
   "file_extension": ".py",
   "mimetype": "text/x-python",
   "name": "python",
   "nbconvert_exporter": "python",
   "pygments_lexer": "ipython3",
   "version": "3.5.6"
  }
 },
 "nbformat": 4,
 "nbformat_minor": 2
}
